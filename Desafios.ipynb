{
  "nbformat": 4,
  "nbformat_minor": 0,
  "metadata": {
    "colab": {
      "name": "Desafios.ipynb",
      "provenance": [],
      "collapsed_sections": [
        "FC2KQC3bFPji",
        "84F8eG83FzK8",
        "TCjijKmO2BCx"
      ],
      "authorship_tag": "ABX9TyMVsIyMgRQlyoRqKmQ/6hSV",
      "include_colab_link": true
    },
    "kernelspec": {
      "name": "python3",
      "display_name": "Python 3"
    },
    "language_info": {
      "name": "python"
    }
  },
  "cells": [
    {
      "cell_type": "markdown",
      "metadata": {
        "id": "view-in-github",
        "colab_type": "text"
      },
      "source": [
        "<a href=\"https://colab.research.google.com/github/HenriqueMAP/imersao-dados-3-alura/blob/main/Desafios.ipynb\" target=\"_parent\"><img src=\"https://colab.research.google.com/assets/colab-badge.svg\" alt=\"Open In Colab\"/></a>"
      ]
    },
    {
      "cell_type": "markdown",
      "metadata": {
        "id": "XFk-5eMQvFgw"
      },
      "source": [
        "# Desafios da Imersão Dados 3ª Edição\n",
        "\n",
        "\n"
      ]
    },
    {
      "cell_type": "markdown",
      "metadata": {
        "id": "2EMTmaBVwOwQ"
      },
      "source": [
        "## Aula 1: Python, Pandas e Pharmacia\n",
        "### Desafio 01: Investigar o por quê da classe \"tratamento\" ser tão desbalanceada.\n",
        "---\n",
        "### Desafio 02: Plotar as 5 últimas linhas da tabela.\n",
        "---\n",
        "### Desafio 03: Proporção das classes de tratamento.\n",
        "---\n",
        "### Desafio 04: Quantos tipos de drogas foram investigados?\n",
        "---\n",
        "### Desafio 05: Procurar na documentação do Pandas sobre o método query.\n",
        "---\n",
        "### Desafio 06: Renomear as colunas removendo o hífen.\n",
        "---\n",
        "### Desafio 07: Melhorar a aparência dos gráficos, utilizando o matplotlib.pyplot.\n",
        "---\n",
        "### Desafio 08: Resumir o que você aprendeu."
      ]
    },
    {
      "cell_type": "markdown",
      "metadata": {
        "id": "FC2KQC3bFPji"
      },
      "source": [
        "## Resposta do Desafio 01: Investigar o por quê da classe \"tratamento\" ser tão desbalanceada."
      ]
    },
    {
      "cell_type": "markdown",
      "metadata": {
        "id": "84F8eG83FzK8"
      },
      "source": [
        "### Quantidade de tratamentos utilizando drogas VS não utilizando drogas (com_controle)"
      ]
    },
    {
      "cell_type": "code",
      "metadata": {
        "colab": {
          "base_uri": "https://localhost:8080/",
          "height": 54
        },
        "id": "wanqm_QOFGU2",
        "outputId": "9bb32951-8e60-414f-a080-c079417232e7"
      },
      "source": [
        "import pandas as pd\n",
        "url_dados = 'https://github.com/alura-cursos/imersaodados3/blob/main/dados/dados_experimentos.zip?raw=true'\n",
        "dados = pd.read_csv(url_dados, compression = 'zip')\n",
        "tipos_tratamentos = dados['tratamento'].value_counts().plot.pie(\n",
        "    labels=None,\n",
        "    autopct=\"%.2f\",\n",
        "    legend=True,\n",
        "    figsize=(4, 4),\n",
        "    )"
      ],
      "execution_count": 2,
      "outputs": [
        {
          "output_type": "display_data",
          "data": {
            "image/png": "[encoded data removed]",
            "text/plain": [
              "<Figure size 288x288 with 1 Axes>"
            ]
          },
          "metadata": {
            "tags": []
          }
        }
      ]
    },
    {
      "cell_type": "markdown",
      "metadata": {
        "id": "66Lk_QczDvsA"
      },
      "source": [
        "Resposta (Parte 1): Embora a quantidade de tratamentos utilizando drogas seja igual a 21 948, em contrapartida, a quantidade de tratamentos sem drogas (com_controle) é igal a 1 866. A princípio parece ser uma desproporcionalidade, mas isso só fica visível dessa forma, porque a análise nesse ponto é rasa, superficial, e precisa ser aprofundada."
      ]
    },
    {
      "cell_type": "markdown",
      "metadata": {
        "id": "jZO42XuZGB2t"
      },
      "source": [
        "### Quantidade da utilização de cada tipo de substância / composto"
      ]
    },
    {
      "cell_type": "code",
      "metadata": {
        "colab": {
          "base_uri": "https://localhost:8080/"
        },
        "id": "UdA0UDiAGoEz",
        "outputId": "46336c69-38a6-4784-d41f-2cff6428c72e"
      },
      "source": [
        "mapa = {'droga':'composto'}\n",
        "dados.rename(columns=mapa, inplace = True)\n",
        "dados['composto'].value_counts()"
      ],
      "execution_count": 3,
      "outputs": [
        {
          "output_type": "execute_result",
          "data": {
            "text/plain": [
              "cacb2b860    1866\n",
              "87d714366     718\n",
              "9f80f3f77     246\n",
              "8b87a7a83     203\n",
              "5628cb3ee     202\n",
              "             ... \n",
              "06787fefe       1\n",
              "81a463c0a       1\n",
              "36dc71f82       1\n",
              "161572520       1\n",
              "a8ec8311e       1\n",
              "Name: composto, Length: 3289, dtype: int64"
            ]
          },
          "metadata": {
            "tags": []
          },
          "execution_count": 3
        }
      ]
    },
    {
      "cell_type": "markdown",
      "metadata": {
        "id": "SG92YIgREtfE"
      },
      "source": [
        "Resposta (Parte 2): Para aprofundar essa análise, é necessário identificar se existem mais de uma substância utilizadas no tratamento sem drogas. Neste caso, é possível identificar que a substância utilizada foi apenas a denominada cacb2b860. Note que ao contar quantas vezes ela é utilizada, encontramos o mesmo valor de 1866 utilizado quando verificamos quantos tratamentos foram realizados anteriormente. Confira abaixo que somente existe essa subtância quando filtramos a coluna de \"tratamento\" para o valor de \"com_controle\"."
      ]
    },
    {
      "cell_type": "markdown",
      "metadata": {
        "id": "8YJnMRwAJafT"
      },
      "source": [
        "### Verificação de substâncias utilizadas no tratamento \"com_controle\""
      ]
    },
    {
      "cell_type": "code",
      "metadata": {
        "colab": {
          "base_uri": "https://localhost:8080/"
        },
        "id": "jgyowNInOi8R",
        "outputId": "7489492c-caa3-4588-de12-68a58481f754"
      },
      "source": [
        "comcontrole = dados.query('\"com_controle\" in tratamento')\n",
        "comcontrole['composto'].unique()"
      ],
      "execution_count": 4,
      "outputs": [
        {
          "output_type": "execute_result",
          "data": {
            "text/plain": [
              "array(['cacb2b860'], dtype=object)"
            ]
          },
          "metadata": {
            "tags": []
          },
          "execution_count": 4
        }
      ]
    },
    {
      "cell_type": "markdown",
      "metadata": {
        "id": "DXh2OthEJkWY"
      },
      "source": [
        "### Quantidade de utilização das substâncias"
      ]
    },
    {
      "cell_type": "code",
      "metadata": {
        "colab": {
          "base_uri": "https://localhost:8080/",
          "height": 538
        },
        "id": "I2klJTsyJJYV",
        "outputId": "97ece2e0-6d6f-4807-817f-72e30fda4ba7"
      },
      "source": [
        "pd.crosstab(dados['composto'], dados['tratamento'])"
      ],
      "execution_count": 5,
      "outputs": [
        {
          "output_type": "execute_result",
          "data": {
            "text/html": [
              "<div>\n",
              "<style scoped>\n",
              "    .dataframe tbody tr th:only-of-type {\n",
              "        vertical-align: middle;\n",
              "    }\n",
              "\n",
              "    .dataframe tbody tr th {\n",
              "        vertical-align: top;\n",
              "    }\n",
              "\n",
              "    .dataframe thead th {\n",
              "        text-align: right;\n",
              "    }\n",
              "</style>\n",
              "<table border=\"1\" class=\"dataframe\">\n",
              "  <thead>\n",
              "    <tr style=\"text-align: right;\">\n",
              "      <th>tratamento</th>\n",
              "      <th>com_controle</th>\n",
              "      <th>com_droga</th>\n",
              "    </tr>\n",
              "    <tr>\n",
              "      <th>composto</th>\n",
              "      <th></th>\n",
              "      <th></th>\n",
              "    </tr>\n",
              "  </thead>\n",
              "  <tbody>\n",
              "    <tr>\n",
              "      <th>00199ff52</th>\n",
              "      <td>0</td>\n",
              "      <td>6</td>\n",
              "    </tr>\n",
              "    <tr>\n",
              "      <th>00251fc41</th>\n",
              "      <td>0</td>\n",
              "      <td>6</td>\n",
              "    </tr>\n",
              "    <tr>\n",
              "      <th>00321ea80</th>\n",
              "      <td>0</td>\n",
              "      <td>12</td>\n",
              "    </tr>\n",
              "    <tr>\n",
              "      <th>0034c0847</th>\n",
              "      <td>0</td>\n",
              "      <td>6</td>\n",
              "    </tr>\n",
              "    <tr>\n",
              "      <th>0060e686f</th>\n",
              "      <td>0</td>\n",
              "      <td>6</td>\n",
              "    </tr>\n",
              "    <tr>\n",
              "      <th>...</th>\n",
              "      <td>...</td>\n",
              "      <td>...</td>\n",
              "    </tr>\n",
              "    <tr>\n",
              "      <th>ff9565933</th>\n",
              "      <td>0</td>\n",
              "      <td>6</td>\n",
              "    </tr>\n",
              "    <tr>\n",
              "      <th>ffd66e220</th>\n",
              "      <td>0</td>\n",
              "      <td>6</td>\n",
              "    </tr>\n",
              "    <tr>\n",
              "      <th>ffe357f8f</th>\n",
              "      <td>0</td>\n",
              "      <td>1</td>\n",
              "    </tr>\n",
              "    <tr>\n",
              "      <th>ffed8e1c9</th>\n",
              "      <td>0</td>\n",
              "      <td>6</td>\n",
              "    </tr>\n",
              "    <tr>\n",
              "      <th>fff7d208d</th>\n",
              "      <td>0</td>\n",
              "      <td>6</td>\n",
              "    </tr>\n",
              "  </tbody>\n",
              "</table>\n",
              "<p>3289 rows × 2 columns</p>\n",
              "</div>"
            ],
            "text/plain": [
              "tratamento  com_controle  com_droga\n",
              "composto                           \n",
              "00199ff52              0          6\n",
              "00251fc41              0          6\n",
              "00321ea80              0         12\n",
              "0034c0847              0          6\n",
              "0060e686f              0          6\n",
              "...                  ...        ...\n",
              "ff9565933              0          6\n",
              "ffd66e220              0          6\n",
              "ffe357f8f              0          1\n",
              "ffed8e1c9              0          6\n",
              "fff7d208d              0          6\n",
              "\n",
              "[3289 rows x 2 columns]"
            ]
          },
          "metadata": {
            "tags": []
          },
          "execution_count": 5
        }
      ]
    },
    {
      "cell_type": "markdown",
      "metadata": {
        "id": "C_QieXqXJzG-"
      },
      "source": [
        "Resposta (Parte 3): O método crosstab do Pandas retornou a quantidade de vezes que cada tipos de substância / droga foi utilizada nos 23 814 tratamentos. \n",
        "\n",
        "Desse valor, sabemos que precisamos subtrair a quantidade de tratamentos realizados sem drogas, que corresponde a 1866 tratamentos. \n",
        "\n",
        "Assim, restam 21 948, dos quais podemos verificar com o retorno acima que são exatamente 3288 drogas utilizadas, sendo que retiramos 1 do total de linhas que o cross tab retorna devido a substância do tratamento com controle.\n",
        "\n",
        "E se utilizarmos dados['composto'].value_counts() podemos ver que a droga mais utilizada á a denominada como 87d714366, da qual é utilizada 718 vezes. \n",
        "\n",
        "Agora sabendo disso, percebemos que a quantidade de tratamentos não utilizando drogas foi maior que qualquer tratamento utilizando uma droga específica. Ou seja, não existe nenhuma desproporcionalidade."
      ]
    },
    {
      "cell_type": "code",
      "metadata": {
        "colab": {
          "base_uri": "https://localhost:8080/"
        },
        "id": "LrO4CKzXM-_i",
        "outputId": "c9fb828e-78ec-4566-d5da-046afc272c75"
      },
      "source": [
        "dados['composto'].value_counts()"
      ],
      "execution_count": 6,
      "outputs": [
        {
          "output_type": "execute_result",
          "data": {
            "text/plain": [
              "cacb2b860    1866\n",
              "87d714366     718\n",
              "9f80f3f77     246\n",
              "8b87a7a83     203\n",
              "5628cb3ee     202\n",
              "             ... \n",
              "06787fefe       1\n",
              "81a463c0a       1\n",
              "36dc71f82       1\n",
              "161572520       1\n",
              "a8ec8311e       1\n",
              "Name: composto, Length: 3289, dtype: int64"
            ]
          },
          "metadata": {
            "tags": []
          },
          "execution_count": 6
        }
      ]
    },
    {
      "cell_type": "markdown",
      "metadata": {
        "id": "TCjijKmO2BCx"
      },
      "source": [
        "## Resposta do Desafio 02: Plotar as 5 últimas linhas da tabela."
      ]
    },
    {
      "cell_type": "code",
      "metadata": {
        "colab": {
          "base_uri": "https://localhost:8080/",
          "height": 253
        },
        "id": "HeoubJCI2Nuw",
        "outputId": "da0299b0-b3d1-4362-df86-c4ac624f8b67"
      },
      "source": [
        "dados.tail(5)"
      ],
      "execution_count": 7,
      "outputs": [
        {
          "output_type": "execute_result",
          "data": {
            "text/html": [
              "<div>\n",
              "<style scoped>\n",
              "    .dataframe tbody tr th:only-of-type {\n",
              "        vertical-align: middle;\n",
              "    }\n",
              "\n",
              "    .dataframe tbody tr th {\n",
              "        vertical-align: top;\n",
              "    }\n",
              "\n",
              "    .dataframe thead th {\n",
              "        text-align: right;\n",
              "    }\n",
              "</style>\n",
              "<table border=\"1\" class=\"dataframe\">\n",
              "  <thead>\n",
              "    <tr style=\"text-align: right;\">\n",
              "      <th></th>\n",
              "      <th>id</th>\n",
              "      <th>tratamento</th>\n",
              "      <th>tempo</th>\n",
              "      <th>dose</th>\n",
              "      <th>composto</th>\n",
              "      <th>g-0</th>\n",
              "      <th>g-1</th>\n",
              "      <th>g-2</th>\n",
              "      <th>g-3</th>\n",
              "      <th>g-4</th>\n",
              "      <th>g-5</th>\n",
              "      <th>g-6</th>\n",
              "      <th>g-7</th>\n",
              "      <th>g-8</th>\n",
              "      <th>g-9</th>\n",
              "      <th>g-10</th>\n",
              "      <th>g-11</th>\n",
              "      <th>g-12</th>\n",
              "      <th>g-13</th>\n",
              "      <th>g-14</th>\n",
              "      <th>g-15</th>\n",
              "      <th>g-16</th>\n",
              "      <th>g-17</th>\n",
              "      <th>g-18</th>\n",
              "      <th>g-19</th>\n",
              "      <th>g-20</th>\n",
              "      <th>g-21</th>\n",
              "      <th>g-22</th>\n",
              "      <th>g-23</th>\n",
              "      <th>g-24</th>\n",
              "      <th>g-25</th>\n",
              "      <th>g-26</th>\n",
              "      <th>g-27</th>\n",
              "      <th>g-28</th>\n",
              "      <th>g-29</th>\n",
              "      <th>g-30</th>\n",
              "      <th>g-31</th>\n",
              "      <th>g-32</th>\n",
              "      <th>g-33</th>\n",
              "      <th>g-34</th>\n",
              "      <th>...</th>\n",
              "      <th>c-60</th>\n",
              "      <th>c-61</th>\n",
              "      <th>c-62</th>\n",
              "      <th>c-63</th>\n",
              "      <th>c-64</th>\n",
              "      <th>c-65</th>\n",
              "      <th>c-66</th>\n",
              "      <th>c-67</th>\n",
              "      <th>c-68</th>\n",
              "      <th>c-69</th>\n",
              "      <th>c-70</th>\n",
              "      <th>c-71</th>\n",
              "      <th>c-72</th>\n",
              "      <th>c-73</th>\n",
              "      <th>c-74</th>\n",
              "      <th>c-75</th>\n",
              "      <th>c-76</th>\n",
              "      <th>c-77</th>\n",
              "      <th>c-78</th>\n",
              "      <th>c-79</th>\n",
              "      <th>c-80</th>\n",
              "      <th>c-81</th>\n",
              "      <th>c-82</th>\n",
              "      <th>c-83</th>\n",
              "      <th>c-84</th>\n",
              "      <th>c-85</th>\n",
              "      <th>c-86</th>\n",
              "      <th>c-87</th>\n",
              "      <th>c-88</th>\n",
              "      <th>c-89</th>\n",
              "      <th>c-90</th>\n",
              "      <th>c-91</th>\n",
              "      <th>c-92</th>\n",
              "      <th>c-93</th>\n",
              "      <th>c-94</th>\n",
              "      <th>c-95</th>\n",
              "      <th>c-96</th>\n",
              "      <th>c-97</th>\n",
              "      <th>c-98</th>\n",
              "      <th>c-99</th>\n",
              "    </tr>\n",
              "  </thead>\n",
              "  <tbody>\n",
              "    <tr>\n",
              "      <th>23809</th>\n",
              "      <td>id_fffb1ceed</td>\n",
              "      <td>com_droga</td>\n",
              "      <td>24</td>\n",
              "      <td>D2</td>\n",
              "      <td>df1d0a5a1</td>\n",
              "      <td>0.1394</td>\n",
              "      <td>-0.0636</td>\n",
              "      <td>-0.1112</td>\n",
              "      <td>-0.5080</td>\n",
              "      <td>-0.4713</td>\n",
              "      <td>0.7201</td>\n",
              "      <td>0.5773</td>\n",
              "      <td>0.3055</td>\n",
              "      <td>-0.4726</td>\n",
              "      <td>0.1269</td>\n",
              "      <td>0.2531</td>\n",
              "      <td>0.1730</td>\n",
              "      <td>-0.4532</td>\n",
              "      <td>-1.0790</td>\n",
              "      <td>0.2474</td>\n",
              "      <td>-0.4550</td>\n",
              "      <td>0.3588</td>\n",
              "      <td>0.1600</td>\n",
              "      <td>-0.7362</td>\n",
              "      <td>-0.1103</td>\n",
              "      <td>0.8550</td>\n",
              "      <td>-0.4139</td>\n",
              "      <td>0.5541</td>\n",
              "      <td>0.2310</td>\n",
              "      <td>-0.5573</td>\n",
              "      <td>-0.4397</td>\n",
              "      <td>-0.9260</td>\n",
              "      <td>-0.2424</td>\n",
              "      <td>-0.6686</td>\n",
              "      <td>0.2326</td>\n",
              "      <td>0.6456</td>\n",
              "      <td>0.0136</td>\n",
              "      <td>-0.5141</td>\n",
              "      <td>-0.6320</td>\n",
              "      <td>0.7166</td>\n",
              "      <td>...</td>\n",
              "      <td>0.0807</td>\n",
              "      <td>0.4024</td>\n",
              "      <td>-0.0895</td>\n",
              "      <td>0.4420</td>\n",
              "      <td>0.9641</td>\n",
              "      <td>-0.1846</td>\n",
              "      <td>-0.0014</td>\n",
              "      <td>0.3154</td>\n",
              "      <td>-0.2071</td>\n",
              "      <td>-0.6158</td>\n",
              "      <td>-0.2977</td>\n",
              "      <td>0.0992</td>\n",
              "      <td>0.6838</td>\n",
              "      <td>0.5259</td>\n",
              "      <td>0.7882</td>\n",
              "      <td>0.3119</td>\n",
              "      <td>-0.7697</td>\n",
              "      <td>0.2203</td>\n",
              "      <td>-1.0710</td>\n",
              "      <td>0.5979</td>\n",
              "      <td>0.0848</td>\n",
              "      <td>-0.2555</td>\n",
              "      <td>0.6293</td>\n",
              "      <td>1.1660</td>\n",
              "      <td>0.3329</td>\n",
              "      <td>0.2754</td>\n",
              "      <td>0.4108</td>\n",
              "      <td>-0.1252</td>\n",
              "      <td>-0.2340</td>\n",
              "      <td>0.2267</td>\n",
              "      <td>0.1969</td>\n",
              "      <td>0.0262</td>\n",
              "      <td>-0.8121</td>\n",
              "      <td>0.3434</td>\n",
              "      <td>0.5372</td>\n",
              "      <td>-0.3246</td>\n",
              "      <td>0.0631</td>\n",
              "      <td>0.9171</td>\n",
              "      <td>0.5258</td>\n",
              "      <td>0.4680</td>\n",
              "    </tr>\n",
              "    <tr>\n",
              "      <th>23810</th>\n",
              "      <td>id_fffb70c0c</td>\n",
              "      <td>com_droga</td>\n",
              "      <td>24</td>\n",
              "      <td>D2</td>\n",
              "      <td>ecf3b6b74</td>\n",
              "      <td>-1.3260</td>\n",
              "      <td>0.3478</td>\n",
              "      <td>-0.3743</td>\n",
              "      <td>0.9905</td>\n",
              "      <td>-0.7178</td>\n",
              "      <td>0.6621</td>\n",
              "      <td>-0.2252</td>\n",
              "      <td>-0.5565</td>\n",
              "      <td>0.5112</td>\n",
              "      <td>0.6727</td>\n",
              "      <td>-0.1851</td>\n",
              "      <td>2.8650</td>\n",
              "      <td>-0.2140</td>\n",
              "      <td>-0.6153</td>\n",
              "      <td>0.8362</td>\n",
              "      <td>0.5584</td>\n",
              "      <td>-0.2589</td>\n",
              "      <td>0.1292</td>\n",
              "      <td>0.0148</td>\n",
              "      <td>0.0949</td>\n",
              "      <td>-0.2182</td>\n",
              "      <td>-0.9235</td>\n",
              "      <td>0.0749</td>\n",
              "      <td>-1.5910</td>\n",
              "      <td>-0.8359</td>\n",
              "      <td>-0.9217</td>\n",
              "      <td>0.3013</td>\n",
              "      <td>0.1716</td>\n",
              "      <td>0.0880</td>\n",
              "      <td>0.1842</td>\n",
              "      <td>0.1835</td>\n",
              "      <td>0.5436</td>\n",
              "      <td>-0.0533</td>\n",
              "      <td>-0.0491</td>\n",
              "      <td>0.9543</td>\n",
              "      <td>...</td>\n",
              "      <td>0.1410</td>\n",
              "      <td>1.2640</td>\n",
              "      <td>-0.8663</td>\n",
              "      <td>0.8129</td>\n",
              "      <td>-0.1514</td>\n",
              "      <td>-0.4652</td>\n",
              "      <td>-0.7390</td>\n",
              "      <td>-1.3270</td>\n",
              "      <td>0.9925</td>\n",
              "      <td>1.0570</td>\n",
              "      <td>-0.3355</td>\n",
              "      <td>-0.2555</td>\n",
              "      <td>0.8219</td>\n",
              "      <td>0.6995</td>\n",
              "      <td>-0.2942</td>\n",
              "      <td>0.2408</td>\n",
              "      <td>-0.7781</td>\n",
              "      <td>-0.0929</td>\n",
              "      <td>-0.0329</td>\n",
              "      <td>0.0781</td>\n",
              "      <td>-1.4440</td>\n",
              "      <td>-0.0921</td>\n",
              "      <td>0.3188</td>\n",
              "      <td>-1.1080</td>\n",
              "      <td>0.4895</td>\n",
              "      <td>-0.2144</td>\n",
              "      <td>1.0960</td>\n",
              "      <td>0.3335</td>\n",
              "      <td>0.4444</td>\n",
              "      <td>-1.1130</td>\n",
              "      <td>0.4286</td>\n",
              "      <td>0.4426</td>\n",
              "      <td>0.0423</td>\n",
              "      <td>-0.3195</td>\n",
              "      <td>-0.8086</td>\n",
              "      <td>-0.9798</td>\n",
              "      <td>-0.2084</td>\n",
              "      <td>-0.1224</td>\n",
              "      <td>-0.2715</td>\n",
              "      <td>0.3689</td>\n",
              "    </tr>\n",
              "    <tr>\n",
              "      <th>23811</th>\n",
              "      <td>id_fffc1c3f4</td>\n",
              "      <td>com_controle</td>\n",
              "      <td>48</td>\n",
              "      <td>D2</td>\n",
              "      <td>cacb2b860</td>\n",
              "      <td>0.3942</td>\n",
              "      <td>0.3756</td>\n",
              "      <td>0.3109</td>\n",
              "      <td>-0.7389</td>\n",
              "      <td>0.5505</td>\n",
              "      <td>-0.0159</td>\n",
              "      <td>-0.2541</td>\n",
              "      <td>0.1745</td>\n",
              "      <td>-0.0340</td>\n",
              "      <td>0.4865</td>\n",
              "      <td>-0.1854</td>\n",
              "      <td>0.0716</td>\n",
              "      <td>0.1729</td>\n",
              "      <td>-0.0434</td>\n",
              "      <td>0.1542</td>\n",
              "      <td>-0.2192</td>\n",
              "      <td>-0.0302</td>\n",
              "      <td>-0.4218</td>\n",
              "      <td>0.4057</td>\n",
              "      <td>-0.5372</td>\n",
              "      <td>0.1521</td>\n",
              "      <td>-0.2651</td>\n",
              "      <td>0.2310</td>\n",
              "      <td>-0.8101</td>\n",
              "      <td>0.4943</td>\n",
              "      <td>0.6905</td>\n",
              "      <td>-0.3720</td>\n",
              "      <td>-1.4110</td>\n",
              "      <td>0.4516</td>\n",
              "      <td>1.2300</td>\n",
              "      <td>-0.1949</td>\n",
              "      <td>-1.3280</td>\n",
              "      <td>-0.4276</td>\n",
              "      <td>-0.0040</td>\n",
              "      <td>-0.3086</td>\n",
              "      <td>...</td>\n",
              "      <td>0.6845</td>\n",
              "      <td>0.7127</td>\n",
              "      <td>0.7294</td>\n",
              "      <td>0.4718</td>\n",
              "      <td>-0.2020</td>\n",
              "      <td>0.2783</td>\n",
              "      <td>0.4934</td>\n",
              "      <td>0.4144</td>\n",
              "      <td>0.5449</td>\n",
              "      <td>1.4690</td>\n",
              "      <td>-0.6142</td>\n",
              "      <td>0.6068</td>\n",
              "      <td>0.3434</td>\n",
              "      <td>0.9880</td>\n",
              "      <td>-0.0468</td>\n",
              "      <td>-0.1882</td>\n",
              "      <td>-0.0087</td>\n",
              "      <td>-0.0356</td>\n",
              "      <td>0.5718</td>\n",
              "      <td>0.4971</td>\n",
              "      <td>0.1057</td>\n",
              "      <td>0.2111</td>\n",
              "      <td>0.6992</td>\n",
              "      <td>0.0708</td>\n",
              "      <td>0.6169</td>\n",
              "      <td>0.2248</td>\n",
              "      <td>0.5994</td>\n",
              "      <td>0.2689</td>\n",
              "      <td>0.0305</td>\n",
              "      <td>1.2320</td>\n",
              "      <td>0.5409</td>\n",
              "      <td>0.3755</td>\n",
              "      <td>0.7343</td>\n",
              "      <td>0.2807</td>\n",
              "      <td>0.4116</td>\n",
              "      <td>0.6422</td>\n",
              "      <td>0.2256</td>\n",
              "      <td>0.7592</td>\n",
              "      <td>0.6656</td>\n",
              "      <td>0.3808</td>\n",
              "    </tr>\n",
              "    <tr>\n",
              "      <th>23812</th>\n",
              "      <td>id_fffcb9e7c</td>\n",
              "      <td>com_droga</td>\n",
              "      <td>24</td>\n",
              "      <td>D1</td>\n",
              "      <td>8b87a7a83</td>\n",
              "      <td>0.6660</td>\n",
              "      <td>0.2324</td>\n",
              "      <td>0.4392</td>\n",
              "      <td>0.2044</td>\n",
              "      <td>0.8531</td>\n",
              "      <td>-0.0343</td>\n",
              "      <td>0.0323</td>\n",
              "      <td>0.0463</td>\n",
              "      <td>0.4299</td>\n",
              "      <td>-0.7985</td>\n",
              "      <td>0.5742</td>\n",
              "      <td>0.1421</td>\n",
              "      <td>2.2700</td>\n",
              "      <td>0.2046</td>\n",
              "      <td>0.5363</td>\n",
              "      <td>-1.7330</td>\n",
              "      <td>0.1450</td>\n",
              "      <td>0.6097</td>\n",
              "      <td>0.2024</td>\n",
              "      <td>0.9865</td>\n",
              "      <td>-0.7805</td>\n",
              "      <td>0.9608</td>\n",
              "      <td>0.3440</td>\n",
              "      <td>2.7650</td>\n",
              "      <td>0.4925</td>\n",
              "      <td>0.6698</td>\n",
              "      <td>0.2374</td>\n",
              "      <td>-0.3372</td>\n",
              "      <td>0.8771</td>\n",
              "      <td>-2.6560</td>\n",
              "      <td>-0.2000</td>\n",
              "      <td>-0.2043</td>\n",
              "      <td>0.6797</td>\n",
              "      <td>-0.0248</td>\n",
              "      <td>-0.0927</td>\n",
              "      <td>...</td>\n",
              "      <td>0.3360</td>\n",
              "      <td>-0.6136</td>\n",
              "      <td>0.5011</td>\n",
              "      <td>0.9261</td>\n",
              "      <td>0.4419</td>\n",
              "      <td>0.0295</td>\n",
              "      <td>0.4220</td>\n",
              "      <td>0.4677</td>\n",
              "      <td>-0.1184</td>\n",
              "      <td>0.4524</td>\n",
              "      <td>0.4135</td>\n",
              "      <td>0.1356</td>\n",
              "      <td>-0.5801</td>\n",
              "      <td>0.0411</td>\n",
              "      <td>1.0240</td>\n",
              "      <td>1.0340</td>\n",
              "      <td>-0.0270</td>\n",
              "      <td>-0.4194</td>\n",
              "      <td>0.7403</td>\n",
              "      <td>-0.6793</td>\n",
              "      <td>-0.1423</td>\n",
              "      <td>0.7307</td>\n",
              "      <td>0.7946</td>\n",
              "      <td>-0.0650</td>\n",
              "      <td>0.9038</td>\n",
              "      <td>0.2324</td>\n",
              "      <td>0.9676</td>\n",
              "      <td>1.0940</td>\n",
              "      <td>0.4290</td>\n",
              "      <td>0.5187</td>\n",
              "      <td>-0.1105</td>\n",
              "      <td>0.4258</td>\n",
              "      <td>-0.2012</td>\n",
              "      <td>0.1506</td>\n",
              "      <td>1.5230</td>\n",
              "      <td>0.7101</td>\n",
              "      <td>0.1732</td>\n",
              "      <td>0.7015</td>\n",
              "      <td>-0.6290</td>\n",
              "      <td>0.0740</td>\n",
              "    </tr>\n",
              "    <tr>\n",
              "      <th>23813</th>\n",
              "      <td>id_ffffdd77b</td>\n",
              "      <td>com_droga</td>\n",
              "      <td>72</td>\n",
              "      <td>D1</td>\n",
              "      <td>972f41291</td>\n",
              "      <td>-0.8598</td>\n",
              "      <td>1.0240</td>\n",
              "      <td>-0.1361</td>\n",
              "      <td>0.7952</td>\n",
              "      <td>-0.3611</td>\n",
              "      <td>-3.6750</td>\n",
              "      <td>-1.2420</td>\n",
              "      <td>0.9146</td>\n",
              "      <td>3.0790</td>\n",
              "      <td>1.2460</td>\n",
              "      <td>1.9460</td>\n",
              "      <td>1.4370</td>\n",
              "      <td>2.9780</td>\n",
              "      <td>2.2370</td>\n",
              "      <td>-0.6818</td>\n",
              "      <td>0.6870</td>\n",
              "      <td>-1.1060</td>\n",
              "      <td>0.0182</td>\n",
              "      <td>-0.9247</td>\n",
              "      <td>-0.0738</td>\n",
              "      <td>-0.1919</td>\n",
              "      <td>-0.7722</td>\n",
              "      <td>-1.4050</td>\n",
              "      <td>-1.0050</td>\n",
              "      <td>-1.1170</td>\n",
              "      <td>-0.5293</td>\n",
              "      <td>-1.1720</td>\n",
              "      <td>-0.2885</td>\n",
              "      <td>0.1599</td>\n",
              "      <td>-0.4250</td>\n",
              "      <td>0.3591</td>\n",
              "      <td>-0.1420</td>\n",
              "      <td>-0.9530</td>\n",
              "      <td>-0.2005</td>\n",
              "      <td>-1.8340</td>\n",
              "      <td>...</td>\n",
              "      <td>-6.9170</td>\n",
              "      <td>-1.8640</td>\n",
              "      <td>-2.5090</td>\n",
              "      <td>-4.7130</td>\n",
              "      <td>-1.7250</td>\n",
              "      <td>-3.8650</td>\n",
              "      <td>-3.0800</td>\n",
              "      <td>-4.1530</td>\n",
              "      <td>-1.2030</td>\n",
              "      <td>-1.1690</td>\n",
              "      <td>-4.1460</td>\n",
              "      <td>-1.2670</td>\n",
              "      <td>-1.1300</td>\n",
              "      <td>-2.4390</td>\n",
              "      <td>0.1591</td>\n",
              "      <td>-2.2490</td>\n",
              "      <td>-2.5860</td>\n",
              "      <td>-1.9520</td>\n",
              "      <td>-2.1810</td>\n",
              "      <td>-4.6690</td>\n",
              "      <td>-3.9450</td>\n",
              "      <td>-2.9560</td>\n",
              "      <td>-2.7930</td>\n",
              "      <td>-2.1560</td>\n",
              "      <td>-2.4100</td>\n",
              "      <td>-1.8190</td>\n",
              "      <td>-3.3480</td>\n",
              "      <td>-0.1414</td>\n",
              "      <td>-2.6430</td>\n",
              "      <td>-2.5810</td>\n",
              "      <td>-3.3890</td>\n",
              "      <td>-1.7450</td>\n",
              "      <td>-6.6300</td>\n",
              "      <td>-4.0950</td>\n",
              "      <td>-7.3860</td>\n",
              "      <td>-1.4160</td>\n",
              "      <td>-3.5770</td>\n",
              "      <td>-0.4775</td>\n",
              "      <td>-2.1500</td>\n",
              "      <td>-4.2520</td>\n",
              "    </tr>\n",
              "  </tbody>\n",
              "</table>\n",
              "<p>5 rows × 877 columns</p>\n",
              "</div>"
            ],
            "text/plain": [
              "                 id    tratamento  tempo dose  ...    c-96    c-97    c-98    c-99\n",
              "23809  id_fffb1ceed     com_droga     24   D2  ...  0.0631  0.9171  0.5258  0.4680\n",
              "23810  id_fffb70c0c     com_droga     24   D2  ... -0.2084 -0.1224 -0.2715  0.3689\n",
              "23811  id_fffc1c3f4  com_controle     48   D2  ...  0.2256  0.7592  0.6656  0.3808\n",
              "23812  id_fffcb9e7c     com_droga     24   D1  ...  0.1732  0.7015 -0.6290  0.0740\n",
              "23813  id_ffffdd77b     com_droga     72   D1  ... -3.5770 -0.4775 -2.1500 -4.2520\n",
              "\n",
              "[5 rows x 877 columns]"
            ]
          },
          "metadata": {
            "tags": []
          },
          "execution_count": 7
        }
      ]
    },
    {
      "cell_type": "markdown",
      "metadata": {
        "id": "PYVmJyWZw7-M"
      },
      "source": [
        "## Aula 2: Estatísticas, dados e distribuições\n",
        "### Desafio 01: Ordenar o gráfico countplot.\n",
        "---\n",
        "### Desafio 02: Alterar o tamanho da fonte.\n",
        "---\n",
        "### Desafio 03: Plotar os histogramas com seaborn.\n",
        "---\n",
        "### Desafio 04: Estudar sobre as estatísticas retornadas no método describe().\n",
        "---\n",
        "### Desafio 05: Refletir sobre a manipulação do tamanho das visualizações.\n",
        "---\n",
        "### Desafio 06: Realizar outras análises com o boxplot e até com o histograma.\n"
      ]
    },
    {
      "cell_type": "markdown",
      "metadata": {
        "id": "X1cZkOFqyL4v"
      },
      "source": [
        "## Aula 3: Correlações e causalidade\n",
        "### Desafio 01: Criar tabelas de frequência utilizando o método groupby() do Pandas.\n",
        "---\n",
        "### Desafio 02: Normalizar o método crosstab pela coluna.\n",
        "---\n",
        "### Desafio 03: Explorar outros agregadores.\n",
        "---\n",
        "### Desafio 04: Explorar o melt\n",
        "---\n",
        "### Desafio 05: Calcular e analisar a correlação entre G e C. Refletir sobre os efeitos biológicos.\n",
        "---\n",
        "### Desafio 06: Estudar o código que plota a matriz de correlação heatmap.\n",
        "---\n",
        "### Desafio 07: Resumo do que você aprendeu com os dados."
      ]
    },
    {
      "cell_type": "markdown",
      "metadata": {
        "id": "GMb3i-VNzXWU"
      },
      "source": [
        "## Aula 4: Merge e Análise de Resultados\n",
        "### Desafio 01: Encontrar o top 10 das ações do MOA (inibidor, agonista,...)\n",
        "---\n",
        "### Desafio 02: Cria a coluna chamada eh_controle para quando na linha tratamento for igual a com_controle\n",
        "---\n",
        "### Desafio 03: Criar três colunas para indicar o tempo 24, 48, 72\n",
        "---\n",
        "### Desafio 04: Estudar sobre combinações DF https://pandas.pydata.org/pandas-docs/stable/user_guide/merging.html\n",
        "---\n",
        "### Desafio 05: Fazer análise mais detalhada considerando tempo e dose, para comparar as distribuições. Escolher uma droga e comparar com controle.\n",
        "---\n",
        "### Desafio 06: Descobrir se tempo algum composto que dependendo da configuração do experimento, ativa ou não algum MOA.\n",
        "---\n",
        "### Desafio 07: Descobrir se tem algum composto que dependendo da configuração do experimento, ativa um MOA diferente.\n",
        "---\n",
        "### Desafio 08: Resumir o que você aprendeu."
      ]
    },
    {
      "cell_type": "markdown",
      "metadata": {
        "id": "bq1hFCH71wtN"
      },
      "source": [
        "## Aula 05: Machine Learning e Sci-kit Learning\n",
        "### Desafio 01: Tentar outros modelos ou mudar os parâmetros dos modelos que testamos na aula.\n",
        "---\n",
        "### Desafio 02: Estudar a documentação do Sklearn.\n",
        "---\n",
        "### Desafio 03: Pesquisar o fluxograma escolhendo o melhor modelo.\n",
        "---\n",
        "### Desafio 04: Testar outras soluções. 0, 1 ou +\n",
        "---\n",
        "### Desafio 05: escolha uma droga mais utilizada e tentar criar um modelo para prever essa label."
      ]
    }
  ]
}