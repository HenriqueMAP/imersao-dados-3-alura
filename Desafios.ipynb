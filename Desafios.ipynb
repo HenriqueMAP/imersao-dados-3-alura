{
  "nbformat": 4,
  "nbformat_minor": 0,
  "metadata": {
    "colab": {
      "name": "Desafios.ipynb",
      "provenance": [],
      "collapsed_sections": [],
      "authorship_tag": "ABX9TyNHgxdUb9M1PcIObnBf2FQ1",
      "include_colab_link": true
    },
    "kernelspec": {
      "name": "python3",
      "display_name": "Python 3"
    },
    "language_info": {
      "name": "python"
    }
  },
  "cells": [
    {
      "cell_type": "markdown",
      "metadata": {
        "id": "view-in-github",
        "colab_type": "text"
      },
      "source": [
        "<a href=\"https://colab.research.google.com/github/HenriqueMAP/imersao-dados-3-alura/blob/main/Desafios.ipynb\" target=\"_parent\"><img src=\"https://colab.research.google.com/assets/colab-badge.svg\" alt=\"Open In Colab\"/></a>"
      ]
    },
    {
      "cell_type": "markdown",
      "metadata": {
        "id": "XFk-5eMQvFgw"
      },
      "source": [
        "# Desafios da Imersão Dados 3ª Edição\n",
        "\n",
        "\n"
      ]
    },
    {
      "cell_type": "markdown",
      "metadata": {
        "id": "2EMTmaBVwOwQ"
      },
      "source": [
        "## Aula 1: Python, Pandas e Pharmacia\n",
        "### Desafio 01: Investigar o por quê da classe \"tratamento\" ser tão desbalanceada.\n",
        "---\n",
        "### Desafio 02: Plotar as 5 últimas linhas da tabela.\n",
        "---\n",
        "### Desafio 03: Proporção das classes de tratamento.\n",
        "---\n",
        "### Desafio 04: Quantos tipos de drogas foram investigados?\n",
        "---\n",
        "### Desafio 05: Procurar na documentação do Pandas sobre o método query.\n",
        "---\n",
        "### Desafio 06: Renomear as colunas removendo o hífen.\n",
        "---\n",
        "### Desafio 07: Melhorar a aparência dos gráficos, utilizando o matplotlib.pyplot.\n",
        "---\n",
        "### Desafio 08: Resumir o que você aprendeu."
      ]
    },
    {
      "cell_type": "markdown",
      "metadata": {
        "id": "FC2KQC3bFPji"
      },
      "source": [
        "### Resposta do Desafio 01: Investigar o por quê da classe \"tratamento\" ser tão desbalanceada."
      ]
    },
    {
      "cell_type": "markdown",
      "metadata": {
        "id": "84F8eG83FzK8"
      },
      "source": [
        "### Quantidade de tratamentos utilizando drogas VS não utilizando drogas (com_controle)"
      ]
    },
    {
      "cell_type": "code",
      "metadata": {
        "colab": {
          "base_uri": "https://localhost:8080/",
          "height": 248
        },
        "id": "wanqm_QOFGU2",
        "outputId": "1e72043f-75a0-4d24-a119-404f1708574c"
      },
      "source": [
        "import pandas as pd\n",
        "url_dados = 'https://github.com/alura-cursos/imersaodados3/blob/main/dados/dados_experimentos.zip?raw=true'\n",
        "dados = pd.read_csv(url_dados, compression = 'zip')\n",
        "tipos_tratamentos = dados['tratamento'].value_counts().plot.pie(\n",
        "    labels=None,\n",
        "    autopct=\"%.2f\",\n",
        "    legend=True,\n",
        "    figsize=(4, 4),\n",
        "    )"
      ],
      "execution_count": 33,
      "outputs": [
        {
          "output_type": "display_data",
          "data": {
            "image/png": "[encoded data removed]",
            "text/plain": [
              "<Figure size 288x288 with 1 Axes>"
            ]
          },
          "metadata": {
            "tags": []
          }
        }
      ]
    },
    {
      "cell_type": "markdown",
      "metadata": {
        "id": "66Lk_QczDvsA"
      },
      "source": [
        "Resposta (Parte 1): Embora a quantidade de tratamentos utilizando drogas seja igual a 21 948, em contrapartida, a quantidade de tratamentos sem drogas (com_controle) é igal a 1 866. A princípio parece ser uma desproporcionalidade, mas isso só fica visível dessa forma, porque a análise nesse ponto é rasa, superficial, e precisa ser aprofundada."
      ]
    },
    {
      "cell_type": "markdown",
      "metadata": {
        "id": "jZO42XuZGB2t"
      },
      "source": [
        "### Quantidade da utilização de cada tipo de substância / composto"
      ]
    },
    {
      "cell_type": "code",
      "metadata": {
        "colab": {
          "base_uri": "https://localhost:8080/"
        },
        "id": "UdA0UDiAGoEz",
        "outputId": "9f2f7777-1f64-45e8-e48c-e8d5987f6a44"
      },
      "source": [
        "mapa = {'droga':'composto'}\n",
        "dados.rename(columns=mapa, inplace = True)\n",
        "dados['composto'].value_counts()"
      ],
      "execution_count": 34,
      "outputs": [
        {
          "output_type": "execute_result",
          "data": {
            "text/plain": [
              "cacb2b860    1866\n",
              "87d714366     718\n",
              "9f80f3f77     246\n",
              "8b87a7a83     203\n",
              "5628cb3ee     202\n",
              "             ... \n",
              "547f80a41       1\n",
              "e3fe7b417       1\n",
              "a90e40334       1\n",
              "bc21046fe       1\n",
              "89ced6383       1\n",
              "Name: composto, Length: 3289, dtype: int64"
            ]
          },
          "metadata": {
            "tags": []
          },
          "execution_count": 34
        }
      ]
    },
    {
      "cell_type": "markdown",
      "metadata": {
        "id": "SG92YIgREtfE"
      },
      "source": [
        "Resposta (Parte 2): Para aprofundar essa análise, é necessário identificar se existem mais de uma substância utilizadas no tratamento sem drogas. Neste caso, é possível identificar que a substância utilizada foi apenas a denominada cacb2b860. Note que ao contar quantas vezes ela é utilizada, encontramos o mesmo valor de 1866 utilizado quando verificamos quantos tratamentos foram realizados anteriormente. Confira abaixo que somente existe essa subtância quando filtramos a coluna de \"tratamento\" para o valor de \"com_controle\"."
      ]
    },
    {
      "cell_type": "markdown",
      "metadata": {
        "id": "8YJnMRwAJafT"
      },
      "source": [
        "### Verificação de substâncias utilizadas no tratamento \"com_controle\""
      ]
    },
    {
      "cell_type": "code",
      "metadata": {
        "colab": {
          "base_uri": "https://localhost:8080/"
        },
        "id": "jgyowNInOi8R",
        "outputId": "af6d5410-8215-46e3-ad9c-e1d5b9400317"
      },
      "source": [
        "comcontrole = dados.query('\"com_controle\" in tratamento')\n",
        "comcontrole['composto'].unique()"
      ],
      "execution_count": 35,
      "outputs": [
        {
          "output_type": "execute_result",
          "data": {
            "text/plain": [
              "array(['cacb2b860'], dtype=object)"
            ]
          },
          "metadata": {
            "tags": []
          },
          "execution_count": 35
        }
      ]
    },
    {
      "cell_type": "markdown",
      "metadata": {
        "id": "DXh2OthEJkWY"
      },
      "source": [
        "### Quantidade de utilização das substâncias"
      ]
    },
    {
      "cell_type": "code",
      "metadata": {
        "colab": {
          "base_uri": "https://localhost:8080/",
          "height": 450
        },
        "id": "I2klJTsyJJYV",
        "outputId": "a2df7ca6-5c9e-4430-94ae-6155029260c3"
      },
      "source": [
        "pd.crosstab(dados['composto'], dados['tratamento'])"
      ],
      "execution_count": 36,
      "outputs": [
        {
          "output_type": "execute_result",
          "data": {
            "text/html": [
              "<div>\n",
              "<style scoped>\n",
              "    .dataframe tbody tr th:only-of-type {\n",
              "        vertical-align: middle;\n",
              "    }\n",
              "\n",
              "    .dataframe tbody tr th {\n",
              "        vertical-align: top;\n",
              "    }\n",
              "\n",
              "    .dataframe thead th {\n",
              "        text-align: right;\n",
              "    }\n",
              "</style>\n",
              "<table border=\"1\" class=\"dataframe\">\n",
              "  <thead>\n",
              "    <tr style=\"text-align: right;\">\n",
              "      <th>tratamento</th>\n",
              "      <th>com_controle</th>\n",
              "      <th>com_droga</th>\n",
              "    </tr>\n",
              "    <tr>\n",
              "      <th>composto</th>\n",
              "      <th></th>\n",
              "      <th></th>\n",
              "    </tr>\n",
              "  </thead>\n",
              "  <tbody>\n",
              "    <tr>\n",
              "      <th>00199ff52</th>\n",
              "      <td>0</td>\n",
              "      <td>6</td>\n",
              "    </tr>\n",
              "    <tr>\n",
              "      <th>00251fc41</th>\n",
              "      <td>0</td>\n",
              "      <td>6</td>\n",
              "    </tr>\n",
              "    <tr>\n",
              "      <th>00321ea80</th>\n",
              "      <td>0</td>\n",
              "      <td>12</td>\n",
              "    </tr>\n",
              "    <tr>\n",
              "      <th>0034c0847</th>\n",
              "      <td>0</td>\n",
              "      <td>6</td>\n",
              "    </tr>\n",
              "    <tr>\n",
              "      <th>0060e686f</th>\n",
              "      <td>0</td>\n",
              "      <td>6</td>\n",
              "    </tr>\n",
              "    <tr>\n",
              "      <th>...</th>\n",
              "      <td>...</td>\n",
              "      <td>...</td>\n",
              "    </tr>\n",
              "    <tr>\n",
              "      <th>ff9565933</th>\n",
              "      <td>0</td>\n",
              "      <td>6</td>\n",
              "    </tr>\n",
              "    <tr>\n",
              "      <th>ffd66e220</th>\n",
              "      <td>0</td>\n",
              "      <td>6</td>\n",
              "    </tr>\n",
              "    <tr>\n",
              "      <th>ffe357f8f</th>\n",
              "      <td>0</td>\n",
              "      <td>1</td>\n",
              "    </tr>\n",
              "    <tr>\n",
              "      <th>ffed8e1c9</th>\n",
              "      <td>0</td>\n",
              "      <td>6</td>\n",
              "    </tr>\n",
              "    <tr>\n",
              "      <th>fff7d208d</th>\n",
              "      <td>0</td>\n",
              "      <td>6</td>\n",
              "    </tr>\n",
              "  </tbody>\n",
              "</table>\n",
              "<p>3289 rows × 2 columns</p>\n",
              "</div>"
            ],
            "text/plain": [
              "tratamento  com_controle  com_droga\n",
              "composto                           \n",
              "00199ff52              0          6\n",
              "00251fc41              0          6\n",
              "00321ea80              0         12\n",
              "0034c0847              0          6\n",
              "0060e686f              0          6\n",
              "...                  ...        ...\n",
              "ff9565933              0          6\n",
              "ffd66e220              0          6\n",
              "ffe357f8f              0          1\n",
              "ffed8e1c9              0          6\n",
              "fff7d208d              0          6\n",
              "\n",
              "[3289 rows x 2 columns]"
            ]
          },
          "metadata": {
            "tags": []
          },
          "execution_count": 36
        }
      ]
    },
    {
      "cell_type": "markdown",
      "metadata": {
        "id": "C_QieXqXJzG-"
      },
      "source": [
        "Resposta (Parte 3): O método crosstab do Pandas retornou a quantidade de vezes que cada tipos de substância / droga foi utilizada nos 23 814 tratamentos. \n",
        "\n",
        "Desse valor, sabemos que precisamos subtrair a quantidade de tratamentos realizados sem drogas, que corresponde a 1866 tratamentos. \n",
        "\n",
        "Assim, restam 21 948, dos quais podemos verificar com o retorno acima que são exatamente 3288 drogas utilizadas, sendo que retiramos 1 do total de linhas que o cross tab retorna devido a substância do tratamento com controle.\n",
        "\n",
        "E se utilizarmos dados['composto'].value_counts() podemos ver que a droga mais utilizada á a denominada como 87d714366, da qual é utilizada 718 vezes. \n",
        "\n",
        "Agora sabendo disso, percebemos que a quantidade de tratamentos não utilizando drogas foi maior que qualquer tratamento utilizando uma droga específica. Ou seja, não existe nenhuma desproporcionalidade."
      ]
    },
    {
      "cell_type": "code",
      "metadata": {
        "colab": {
          "base_uri": "https://localhost:8080/"
        },
        "id": "LrO4CKzXM-_i",
        "outputId": "931dc263-feba-49d1-f3f8-a655b27fe49a"
      },
      "source": [
        "dados['composto'].value_counts()"
      ],
      "execution_count": 37,
      "outputs": [
        {
          "output_type": "execute_result",
          "data": {
            "text/plain": [
              "cacb2b860    1866\n",
              "87d714366     718\n",
              "9f80f3f77     246\n",
              "8b87a7a83     203\n",
              "5628cb3ee     202\n",
              "             ... \n",
              "547f80a41       1\n",
              "e3fe7b417       1\n",
              "a90e40334       1\n",
              "bc21046fe       1\n",
              "89ced6383       1\n",
              "Name: composto, Length: 3289, dtype: int64"
            ]
          },
          "metadata": {
            "tags": []
          },
          "execution_count": 37
        }
      ]
    },
    {
      "cell_type": "markdown",
      "metadata": {
        "id": "PYVmJyWZw7-M"
      },
      "source": [
        "## Aula 2: Estatísticas, dados e distribuições\n",
        "### Desafio 01: Ordenar o gráfico countplot.\n",
        "---\n",
        "### Desafio 02: Alterar o tamanho da fonte.\n",
        "---\n",
        "### Desafio 03: Plotar os histogramas com seaborn.\n",
        "---\n",
        "### Desafio 04: Estudar sobre as estatísticas retornadas no método describe().\n",
        "---\n",
        "### Desafio 05: Refletir sobre a manipulação do tamanho das visualizações.\n",
        "---\n",
        "### Desafio 06: Realizar outras análises com o boxplot e até com o histograma.\n"
      ]
    },
    {
      "cell_type": "markdown",
      "metadata": {
        "id": "X1cZkOFqyL4v"
      },
      "source": [
        "## Aula 3: Correlações e causalidade\n",
        "### Desafio 01: Criar tabelas de frequência utilizando o método groupby() do Pandas.\n",
        "---\n",
        "### Desafio 02: Normalizar o método crosstab pela coluna.\n",
        "---\n",
        "### Desafio 03: Explorar outros agregadores.\n",
        "---\n",
        "### Desafio 04: Explorar o melt\n",
        "---\n",
        "### Desafio 05: Calcular e analisar a correlação entre G e C. Refletir sobre os efeitos biológicos.\n",
        "---\n",
        "### Desafio 06: Estudar o código que plota a matriz de correlação heatmap.\n",
        "---\n",
        "### Desafio 07: Resumo do que você aprendeu com os dados."
      ]
    },
    {
      "cell_type": "markdown",
      "metadata": {
        "id": "GMb3i-VNzXWU"
      },
      "source": [
        "## Aula 4: Merge e Análise de Resultados\n",
        "### Desafio 01: Encontrar o top 10 das ações do MOA (inibidor, agonista,...)\n",
        "---\n",
        "### Desafio 02: Cria a coluna chamada eh_controle para quando na linha tratamento for igual a com_controle\n",
        "---\n",
        "### Desafio 03: Criar três colunas para indicar o tempo 24, 48, 72\n",
        "---\n",
        "### Desafio 04: Estudar sobre combinações DF https://pandas.pydata.org/pandas-docs/stable/user_guide/merging.html\n",
        "---\n",
        "### Desafio 05: Fazer análise mais detalhada considerando tempo e dose, para comparar as distribuições. Escolher uma droga e comparar com controle.\n",
        "---\n",
        "### Desafio 06: Descobrir se tempo algum composto que dependendo da configuração do experimento, ativa ou não algum MOA.\n",
        "---\n",
        "### Desafio 07: Descobrir se tem algum composto que dependendo da configuração do experimento, ativa um MOA diferente.\n",
        "---\n",
        "### Desafio 08: Resumir o que você aprendeu."
      ]
    },
    {
      "cell_type": "markdown",
      "metadata": {
        "id": "bq1hFCH71wtN"
      },
      "source": [
        "## Aula 05: Machine Learning e Sci-kit Learning\n",
        "### Desafio 01: Tentar outros modelos ou mudar os parâmetros dos modelos que testamos na aula.\n",
        "---\n",
        "### Desafio 02: Estudar a documentação do Sklearn.\n",
        "---\n",
        "### Desafio 03: Pesquisar o fluxograma escolhendo o melhor modelo.\n",
        "---\n",
        "### Desafio 04: Testar outras soluções. 0, 1 ou +\n",
        "---\n",
        "### Desafio 05: escolha uma droga mais utilizada e tentar criar um modelo para prever essa label."
      ]
    }
  ]
}