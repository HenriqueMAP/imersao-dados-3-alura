{
  "nbformat": 4,
  "nbformat_minor": 0,
  "metadata": {
    "colab": {
      "name": "Desafiosipynb",
      "provenance": [],
      "collapsed_sections": [],
      "authorship_tag": "ABX9TyMdkNMS+mAjXjUgufUW+KF5",
      "include_colab_link": true
    },
    "kernelspec": {
      "name": "python3",
      "display_name": "Python 3"
    },
    "language_info": {
      "name": "python"
    }
  },
  "cells": [
    {
      "cell_type": "markdown",
      "metadata": {
        "id": "view-in-github",
        "colab_type": "text"
      },
      "source": [
        "<a href=\"https://colab.research.google.com/github/HenriqueMAP/imersao-dados-3-alura/blob/main/Desafiosipynb.ipynb\" target=\"_parent\"><img src=\"https://colab.research.google.com/assets/colab-badge.svg\" alt=\"Open In Colab\"/></a>"
      ]
    },
    {
      "cell_type": "markdown",
      "metadata": {
        "id": "XFk-5eMQvFgw"
      },
      "source": [
        "# Desafios da Imersão Dados 3ª Edição\n",
        "\n",
        "\n"
      ]
    },
    {
      "cell_type": "markdown",
      "metadata": {
        "id": "2EMTmaBVwOwQ"
      },
      "source": [
        "## Aula 1: Python, Pandas e Pharmacia\n",
        "### Desafio 01: Investigar o por quê da classe \"tratamento\" ser tão desbalanceada.\n",
        "---\n",
        "### Desafio 02: Plotar as 5 últimas linhas da tabela.\n",
        "---\n",
        "### Desafio 03: Proporção das classes de tratamento.\n",
        "---\n",
        "### Desafio 04: Quantos tipos de drogas foram investigados?\n",
        "---\n",
        "### Desafio 05: Procurar na documentação do Pandas sobre o método query.\n",
        "---\n",
        "### Desafio 06: Renomear as colunas removendo o hífen.\n",
        "---\n",
        "### Desafio 07: Melhorar a aparência dos gráficos, utilizando o matplotlib.pyplot.\n",
        "---\n",
        "### Desafio 08: Resumir o que você aprendeu."
      ]
    },
    {
      "cell_type": "markdown",
      "metadata": {
        "id": "PYVmJyWZw7-M"
      },
      "source": [
        "## Aula 2: Estatísticas, dados e distribuições\n",
        "### Desafio 01: Ordenar o gráfico countplot.\n",
        "---\n",
        "### Desafio 02: Alterar o tamanho da fonte.\n",
        "---\n",
        "### Desafio 03: Plotar os histogramas com seaborn.\n",
        "---\n",
        "### Desafio 04: Estudar sobre as estatísticas retornadas no método describe().\n",
        "---\n",
        "### Desafio 05: Refletir sobre a manipulação do tamanho das visualizações.\n",
        "---\n",
        "### Desafio 06: Realizar outras análises com o boxplot e até com o histograma.\n"
      ]
    },
    {
      "cell_type": "markdown",
      "metadata": {
        "id": "X1cZkOFqyL4v"
      },
      "source": [
        "## Aula 3: Correlações e causalidade\n",
        "### Desafio 01: Criar tabelas de frequência utilizando o método groupby() do Pandas.\n",
        "---\n",
        "### Desafio 02: Normalizar o método crosstab pela coluna.\n",
        "---\n",
        "### Desafio 03: Explorar outros agregadores.\n",
        "---\n",
        "### Desafio 04: Explorar o melt\n",
        "---\n",
        "### Desafio 05: Calcular e analisar a correlação entre G e C. Refletir sobre os efeitos biológicos.\n",
        "---\n",
        "### Desafio 06: Estudar o código que plota a matriz de correlação heatmap.\n",
        "---\n",
        "### Desafio 07: Resumo do que você aprendeu com os dados."
      ]
    },
    {
      "cell_type": "markdown",
      "metadata": {
        "id": "GMb3i-VNzXWU"
      },
      "source": [
        "## Aula 4: Merge e Análise de Resultados\n",
        "### Desafio 01: Encontrar o top 10 das ações do MOA (inibidor, agonista,...)\n",
        "---\n",
        "### Desafio 02: Cria a coluna chamada eh_controle para quando na linha tratamento for igual a com_controle\n",
        "---\n",
        "### Desafio 03: Criar três colunas para indicar o tempo 24, 48, 72\n",
        "---\n",
        "### Desafio 04: Estudar sobre combinações DF https://pandas.pydata.org/pandas-docs/stable/user_guide/merging.html\n",
        "---\n",
        "### Desafio 05: Fazer análise mais detalhada considerando tempo e dose, para comparar as distribuições. Escolher uma droga e comparar com controle.\n",
        "---\n",
        "### Desafio 06: Descobrir se tempo algum composto que dependendo da configuração do experimento, ativa ou não algum MOA.\n",
        "---\n",
        "### Desafio 07: Descobrir se tem algum composto que dependendo da configuração do experimento, ativa um MOA diferente.\n",
        "---\n",
        "### Desafio 08: Resumir o que você aprendeu."
      ]
    },
    {
      "cell_type": "markdown",
      "metadata": {
        "id": "bq1hFCH71wtN"
      },
      "source": [
        "## Aula 05: Machine Learning e Sci-kit Learning\n",
        "### Desafio 01: Tentar outros modelos ou mudar os parâmetros dos modelos que testamos na aula.\n",
        "---\n",
        "### Desafio 02: Estudar a documentação do Sklearn.\n",
        "---\n",
        "### Desafio 03: Pesquisar o fluxograma escolhendo o melhor modelo.\n",
        "---\n",
        "### Desafio 04: Testar outras soluções. 0, 1 ou +\n",
        "---\n",
        "### Desafio 05: escolha uma droga mais utilizada e tentar criar um modelo para prever essa label."
      ]
    }
  ]
}